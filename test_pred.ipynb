{
 "cells": [
  {
   "cell_type": "code",
   "execution_count": 7,
   "metadata": {},
   "outputs": [],
   "source": [
    "import torch \n",
    "from torchvision.datasets import MNIST\n",
    "import matplotlib.pyplot as plt\n",
    "import numpy as np\n",
    "import torch.nn as nn\n",
    "import torch.nn.functional as F\n",
    "from torchvision import transforms\n",
    "import os"
   ]
  },
  {
   "cell_type": "code",
   "execution_count": 2,
   "metadata": {},
   "outputs": [],
   "source": [
    "device = \"cuda\" if torch.cuda.is_available() else \"cpu\""
   ]
  },
  {
   "cell_type": "code",
   "execution_count": 9,
   "metadata": {},
   "outputs": [],
   "source": [
    "class LeNet_5(nn.Module):\n",
    "    def __init__(self) -> None:\n",
    "        super(LeNet_5,self).__init__()\n",
    "        self.conv = nn.Sequential(\n",
    "            nn.Conv2d(1,6,5,stride=1,padding=2),\n",
    "            nn.MaxPool2d(2,2),\n",
    "            nn.ReLU(),\n",
    "            nn.Conv2d(6,16,5,1),\n",
    "            nn.MaxPool2d(2,2),\n",
    "            nn.ReLU(),\n",
    "            nn.Conv2d(16,120,5,1),     \n",
    "        )\n",
    "\n",
    "        self.fc = nn.Sequential(\n",
    "            nn.Linear(120,84),\n",
    "            nn.ReLU(),\n",
    "            nn.Linear(84,10), \n",
    "        )\n",
    "\n",
    "    def forward(self,input):\n",
    "        x = self.conv(input)\n",
    "        x = torch.flatten(x,1)\n",
    "        x = self.fc(x)\n",
    "        x = nn.Softmax(dim=1)(x)\n",
    "        return x"
   ]
  },
  {
   "cell_type": "code",
   "execution_count": 17,
   "metadata": {},
   "outputs": [],
   "source": [
    "test_data = MNIST(root='./test',train=False,download=False,transform=transforms.ToTensor())\n",
    "\n",
    "# Umständlich with dataloader\n",
    "#test_loader = torch.utils.data.DataLoader(test_data,batch_size=1)\n",
    "\n",
    "img,label = test_data[0]"
   ]
  },
  {
   "cell_type": "code",
   "execution_count": 11,
   "metadata": {},
   "outputs": [
    {
     "data": {
      "text/plain": [
       "'\\nimage = transforms.ToTensor()(img).to(device)\\n#image = image.unsqueeze(0)\\nprint(image.size())\\n'"
      ]
     },
     "execution_count": 11,
     "metadata": {},
     "output_type": "execute_result"
    }
   ],
   "source": [
    "model = LeNet_5()\n",
    "model.load_state_dict(torch.load('LeNet_5_state_dict.pth'))\n",
    "model.to(device)"
   ]
  },
  {
   "cell_type": "code",
   "execution_count": null,
   "metadata": {},
   "outputs": [],
   "source": [
    "\"\"\"\n",
    "for dataloader approch\n",
    "model.eval()\n",
    "\n",
    "with torch.no_grad():\n",
    "    for X, y in test_loader:\n",
    "        fig, ax = plt.subplots(squeeze=False)\n",
    "        img = torch.squeeze(X,0)\n",
    "        img = torch.squeeze(img,0)\n",
    "        ax[0,0].imshow(img)\n",
    "        # (1, 1, 28, 28)\n",
    "        X = X.to(device)\n",
    "        pred = model(X)\n",
    "        print(f\"predicted: {pred.argmax(1).item()}\\nactual:{y.item()}\")\n",
    "        break\n",
    "\"\"\"    "
   ]
  },
  {
   "cell_type": "code",
   "execution_count": 21,
   "metadata": {},
   "outputs": [
    {
     "name": "stdout",
     "output_type": "stream",
     "text": [
      "predicted: 7\n",
      "actual:7\n"
     ]
    },
    {
     "data": {
      "image/png": "[encoded data removed]",
      "text/plain": [
       "<Figure size 640x480 with 1 Axes>"
      ]
     },
     "metadata": {},
     "output_type": "display_data"
    }
   ],
   "source": [
    "model.eval()\n",
    "\n",
    "with torch.no_grad():\n",
    "    X = torch.unsqueeze(img,0).to(device)\n",
    "\n",
    "    pred = model(X)\n",
    "    print(f\"predicted: {pred.argmax(1).item()}\\nactual:{label}\")\n",
    "    fig, ax = plt.subplots(squeeze=False)\n",
    "    show_instance = torch.squeeze(img,0)\n",
    "    ax[0,0].imshow(show_instance)\n",
    "    _ = ax[0,0].set(xticklabels=[],yticklabels=[],xticks=[],yticks=[])"
   ]
  },
  {
   "cell_type": "code",
   "execution_count": null,
   "metadata": {},
   "outputs": [],
   "source": []
  }
 ],
 "metadata": {
  "kernelspec": {
   "display_name": "Python 3",
   "language": "python",
   "name": "python3"
  },
  "language_info": {
   "codemirror_mode": {
    "name": "ipython",
    "version": 3
   },
   "file_extension": ".py",
   "mimetype": "text/x-python",
   "name": "python",
   "nbconvert_exporter": "python",
   "pygments_lexer": "ipython3",
   "version": "3.10.9"
  },
  "orig_nbformat": 4,
  "vscode": {
   "interpreter": {
    "hash": "c841516a74a887d0dc322c94a4c9096718cc31c40543db1a8dc13eb4d37cbe39"
   }
  }
 },
 "nbformat": 4,
 "nbformat_minor": 2
}
